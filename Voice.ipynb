{
  "nbformat": 4,
  "nbformat_minor": 0,
  "metadata": {
    "colab": {
      "name": "Untitled5.ipynb",
      "provenance": [],
      "collapsed_sections": [],
      "authorship_tag": "ABX9TyN9igF6FgTkUhIi7zG1H358",
      "include_colab_link": true
    },
    "kernelspec": {
      "name": "python3",
      "display_name": "Python 3"
    }
  },
  "cells": [
    {
      "cell_type": "markdown",
      "metadata": {
        "id": "view-in-github",
        "colab_type": "text"
      },
      "source": [
        "<a href=\"https://colab.research.google.com/github/sharibhumayun/csi2020/blob/main/Voice.ipynb\" target=\"_parent\"><img src=\"https://colab.research.google.com/assets/colab-badge.svg\" alt=\"Open In Colab\"/></a>"
      ]
    },
    {
      "cell_type": "code",
      "metadata": {
        "id": "1406ItXWfJIT"
      },
      "source": [
        "import pandas as pd\n",
        "import numpy as np\n",
        "import matplotlib as mpl\n",
        "import matplotlib.pyplot as plt\n",
        "from sklearn.linear_model import LinearRegression\n",
        "from sklearn.model_selection import train_test_split"
      ],
      "execution_count": 1,
      "outputs": []
    },
    {
      "cell_type": "code",
      "metadata": {
        "id": "B0rzk-O3fs-6",
        "outputId": "4e9b99d6-6171-48da-c9e1-a9e1fcd7bc47",
        "colab": {
          "base_uri": "https://localhost:8080/",
          "height": 378
        }
      },
      "source": [
        "path = 'https://raw.githubusercontent.com/sharibhumayun/csi2020/main/VoiceMaster.csv'\n",
        "\n",
        "df = pd.read_csv(path)\n",
        "df.head()"
      ],
      "execution_count": 2,
      "outputs": [
        {
          "output_type": "execute_result",
          "data": {
            "text/html": [
              "<div>\n",
              "<style scoped>\n",
              "    .dataframe tbody tr th:only-of-type {\n",
              "        vertical-align: middle;\n",
              "    }\n",
              "\n",
              "    .dataframe tbody tr th {\n",
              "        vertical-align: top;\n",
              "    }\n",
              "\n",
              "    .dataframe thead th {\n",
              "        text-align: right;\n",
              "    }\n",
              "</style>\n",
              "<table border=\"1\" class=\"dataframe\">\n",
              "  <thead>\n",
              "    <tr style=\"text-align: right;\">\n",
              "      <th></th>\n",
              "      <th>S_no</th>\n",
              "      <th>Current_connection</th>\n",
              "      <th>City</th>\n",
              "      <th>Region</th>\n",
              "      <th>Detailed_Nationality</th>\n",
              "      <th>Nationality</th>\n",
              "      <th>Gender</th>\n",
              "      <th>Exact_Age</th>\n",
              "      <th>Provider</th>\n",
              "      <th>Connection</th>\n",
              "      <th>Segment</th>\n",
              "      <th>Performance</th>\n",
              "      <th>Preference</th>\n",
              "      <th>TRIM_Index</th>\n",
              "      <th>Communication</th>\n",
              "      <th>Easy_to_understand_information</th>\n",
              "      <th>Brand_Trust</th>\n",
              "      <th>Proposition</th>\n",
              "      <th>VFM</th>\n",
              "      <th>Sales_Experience</th>\n",
              "      <th>Opt_inout</th>\n",
              "      <th>Activation_of_addon_packages</th>\n",
              "      <th>deactivation_and_renewal_of_addon_packages</th>\n",
              "      <th>Network_Satisfaction</th>\n",
              "      <th>Quality_ofdata_network_coverage_reliability</th>\n",
              "      <th>Data_network_speed</th>\n",
              "      <th>Quality_of_voice_network</th>\n",
              "      <th>Customer_Support</th>\n",
              "      <th>Experience_getting_support_through_contact_center_IVR</th>\n",
              "      <th>Support_through_Mobily_Stores</th>\n",
              "      <th>Support_through_digital_channels</th>\n",
              "      <th>Billing_Payment</th>\n",
              "      <th>Bill_accuracy_clarity</th>\n",
              "      <th>Prepaid_topup</th>\n",
              "      <th>Payment_process</th>\n",
              "      <th>Ability_to_monitor_usage_balance</th>\n",
              "      <th>Unfair_Balance_Deduction</th>\n",
              "      <th>Overcharging_of_bill</th>\n",
              "      <th>Website_performance</th>\n",
              "      <th>Mobileapp_satisfaction</th>\n",
              "      <th>Performance_SNS_Promotions</th>\n",
              "      <th>CES</th>\n",
              "      <th>OSAT</th>\n",
              "      <th>Wave</th>\n",
              "      <th>Balance deduction experience in which service</th>\n",
              "      <th>Over-charging experience in which service</th>\n",
              "      <th>Awareness of mobile app by Mobily</th>\n",
              "      <th>Awareness of mobile app by STC</th>\n",
              "      <th>Awareness of mobile app by Zain</th>\n",
              "      <th>Visit the website</th>\n",
              "      <th>Navigation Experience Website</th>\n",
              "      <th>Experience Of Finding The Information Website</th>\n",
              "      <th>Download the mobile application</th>\n",
              "      <th>MobileAPP_Usability</th>\n",
              "      <th>Ease Of Problem Resolution Using Mobile App  Mobile Application</th>\n",
              "      <th>Frequency to Use Mobile App</th>\n",
              "      <th>Activities on Mobile Application</th>\n",
              "      <th>Visit any social networking page</th>\n",
              "      <th>Resolving Queries Problem Resolution Performance of social networking page</th>\n",
              "    </tr>\n",
              "  </thead>\n",
              "  <tbody>\n",
              "    <tr>\n",
              "      <th>0</th>\n",
              "      <td>7</td>\n",
              "      <td>Mobily</td>\n",
              "      <td>JEDDAH</td>\n",
              "      <td>Western</td>\n",
              "      <td>Saudis</td>\n",
              "      <td>Nationals</td>\n",
              "      <td>Female</td>\n",
              "      <td>23.0</td>\n",
              "      <td>Mobily</td>\n",
              "      <td>Prepaid</td>\n",
              "      <td>LV</td>\n",
              "      <td>5.0</td>\n",
              "      <td>4.0</td>\n",
              "      <td>125</td>\n",
              "      <td>0.0</td>\n",
              "      <td>10.0</td>\n",
              "      <td>10.0</td>\n",
              "      <td>10.0</td>\n",
              "      <td>10.0</td>\n",
              "      <td>NaN</td>\n",
              "      <td>10.0</td>\n",
              "      <td>10.0</td>\n",
              "      <td>10.0</td>\n",
              "      <td>10.0</td>\n",
              "      <td>NaN</td>\n",
              "      <td>NaN</td>\n",
              "      <td>10.0</td>\n",
              "      <td>NaN</td>\n",
              "      <td>NaN</td>\n",
              "      <td>NaN</td>\n",
              "      <td>NaN</td>\n",
              "      <td>10.0</td>\n",
              "      <td>NaN</td>\n",
              "      <td>10.0</td>\n",
              "      <td>10.0</td>\n",
              "      <td>10.0</td>\n",
              "      <td>No</td>\n",
              "      <td>NaN</td>\n",
              "      <td>NaN</td>\n",
              "      <td>NaN</td>\n",
              "      <td>NaN</td>\n",
              "      <td>NaN</td>\n",
              "      <td>10</td>\n",
              "      <td>Jan'20</td>\n",
              "      <td>NaN</td>\n",
              "      <td>NaN</td>\n",
              "      <td>Yes</td>\n",
              "      <td>No</td>\n",
              "      <td>No</td>\n",
              "      <td>No</td>\n",
              "      <td>NaN</td>\n",
              "      <td>NaN</td>\n",
              "      <td>No</td>\n",
              "      <td>NaN</td>\n",
              "      <td>NaN</td>\n",
              "      <td>NaN</td>\n",
              "      <td>NaN</td>\n",
              "      <td>No</td>\n",
              "      <td>NaN</td>\n",
              "    </tr>\n",
              "    <tr>\n",
              "      <th>1</th>\n",
              "      <td>871</td>\n",
              "      <td>Mobily</td>\n",
              "      <td>JEDDAH</td>\n",
              "      <td>Western</td>\n",
              "      <td>Pakistani</td>\n",
              "      <td>Expat Asians</td>\n",
              "      <td>Male</td>\n",
              "      <td>35.0</td>\n",
              "      <td>Mobily</td>\n",
              "      <td>Prepaid</td>\n",
              "      <td>VLV</td>\n",
              "      <td>5.0</td>\n",
              "      <td>5.0</td>\n",
              "      <td>150</td>\n",
              "      <td>5.0</td>\n",
              "      <td>5.0</td>\n",
              "      <td>NaN</td>\n",
              "      <td>7.0</td>\n",
              "      <td>5.0</td>\n",
              "      <td>NaN</td>\n",
              "      <td>8.0</td>\n",
              "      <td>8.0</td>\n",
              "      <td>10.0</td>\n",
              "      <td>9.0</td>\n",
              "      <td>8.0</td>\n",
              "      <td>8.0</td>\n",
              "      <td>7.0</td>\n",
              "      <td>NaN</td>\n",
              "      <td>NaN</td>\n",
              "      <td>NaN</td>\n",
              "      <td>NaN</td>\n",
              "      <td>10.0</td>\n",
              "      <td>NaN</td>\n",
              "      <td>10.0</td>\n",
              "      <td>10.0</td>\n",
              "      <td>9.0</td>\n",
              "      <td>No</td>\n",
              "      <td>NaN</td>\n",
              "      <td>NaN</td>\n",
              "      <td>NaN</td>\n",
              "      <td>NaN</td>\n",
              "      <td>NaN</td>\n",
              "      <td>10</td>\n",
              "      <td>Jan'20</td>\n",
              "      <td>NaN</td>\n",
              "      <td>NaN</td>\n",
              "      <td>No</td>\n",
              "      <td>No</td>\n",
              "      <td>No</td>\n",
              "      <td>No</td>\n",
              "      <td>NaN</td>\n",
              "      <td>NaN</td>\n",
              "      <td>No</td>\n",
              "      <td>NaN</td>\n",
              "      <td>NaN</td>\n",
              "      <td>NaN</td>\n",
              "      <td>NaN</td>\n",
              "      <td>No</td>\n",
              "      <td>NaN</td>\n",
              "    </tr>\n",
              "    <tr>\n",
              "      <th>2</th>\n",
              "      <td>871</td>\n",
              "      <td>Mobily</td>\n",
              "      <td>MAKKAH AL MUKARRAMAH</td>\n",
              "      <td>Western</td>\n",
              "      <td>Indian</td>\n",
              "      <td>Expat Asians</td>\n",
              "      <td>Male</td>\n",
              "      <td>32.0</td>\n",
              "      <td>Mobily</td>\n",
              "      <td>Prepaid</td>\n",
              "      <td>VLV</td>\n",
              "      <td>3.0</td>\n",
              "      <td>3.0</td>\n",
              "      <td>50</td>\n",
              "      <td>5.0</td>\n",
              "      <td>5.0</td>\n",
              "      <td>7.0</td>\n",
              "      <td>3.0</td>\n",
              "      <td>3.0</td>\n",
              "      <td>NaN</td>\n",
              "      <td>NaN</td>\n",
              "      <td>NaN</td>\n",
              "      <td>NaN</td>\n",
              "      <td>7.0</td>\n",
              "      <td>NaN</td>\n",
              "      <td>NaN</td>\n",
              "      <td>7.0</td>\n",
              "      <td>NaN</td>\n",
              "      <td>NaN</td>\n",
              "      <td>NaN</td>\n",
              "      <td>NaN</td>\n",
              "      <td>10.0</td>\n",
              "      <td>NaN</td>\n",
              "      <td>8.0</td>\n",
              "      <td>8.0</td>\n",
              "      <td>10.0</td>\n",
              "      <td>No</td>\n",
              "      <td>NaN</td>\n",
              "      <td>NaN</td>\n",
              "      <td>NaN</td>\n",
              "      <td>NaN</td>\n",
              "      <td>NaN</td>\n",
              "      <td>5</td>\n",
              "      <td>Jan'20</td>\n",
              "      <td>NaN</td>\n",
              "      <td>NaN</td>\n",
              "      <td>No</td>\n",
              "      <td>No</td>\n",
              "      <td>No</td>\n",
              "      <td>No</td>\n",
              "      <td>NaN</td>\n",
              "      <td>NaN</td>\n",
              "      <td>No</td>\n",
              "      <td>NaN</td>\n",
              "      <td>NaN</td>\n",
              "      <td>NaN</td>\n",
              "      <td>NaN</td>\n",
              "      <td>No</td>\n",
              "      <td>NaN</td>\n",
              "    </tr>\n",
              "    <tr>\n",
              "      <th>3</th>\n",
              "      <td>2037</td>\n",
              "      <td>Mobily</td>\n",
              "      <td>AR RIYADH</td>\n",
              "      <td>Central</td>\n",
              "      <td>Saudis</td>\n",
              "      <td>Nationals</td>\n",
              "      <td>Male</td>\n",
              "      <td>31.0</td>\n",
              "      <td>Mobily</td>\n",
              "      <td>Postpaid</td>\n",
              "      <td>VHV</td>\n",
              "      <td>2.0</td>\n",
              "      <td>1.0</td>\n",
              "      <td>-25</td>\n",
              "      <td>5.0</td>\n",
              "      <td>8.0</td>\n",
              "      <td>2.0</td>\n",
              "      <td>4.0</td>\n",
              "      <td>5.0</td>\n",
              "      <td>NaN</td>\n",
              "      <td>5.0</td>\n",
              "      <td>8.0</td>\n",
              "      <td>1.0</td>\n",
              "      <td>4.0</td>\n",
              "      <td>3.0</td>\n",
              "      <td>5.0</td>\n",
              "      <td>5.0</td>\n",
              "      <td>4.0</td>\n",
              "      <td>3.0</td>\n",
              "      <td>NaN</td>\n",
              "      <td>6.0</td>\n",
              "      <td>6.0</td>\n",
              "      <td>8.0</td>\n",
              "      <td>NaN</td>\n",
              "      <td>6.0</td>\n",
              "      <td>6.0</td>\n",
              "      <td>NaN</td>\n",
              "      <td>No</td>\n",
              "      <td>5</td>\n",
              "      <td>5</td>\n",
              "      <td>NaN</td>\n",
              "      <td>3.0</td>\n",
              "      <td>5</td>\n",
              "      <td>Jan'20</td>\n",
              "      <td>NaN</td>\n",
              "      <td>NaN</td>\n",
              "      <td>Yes</td>\n",
              "      <td>Yes</td>\n",
              "      <td>No</td>\n",
              "      <td>Yes</td>\n",
              "      <td>5</td>\n",
              "      <td>6</td>\n",
              "      <td>Yes</td>\n",
              "      <td>8</td>\n",
              "      <td>3</td>\n",
              "      <td>NaN</td>\n",
              "      <td>NaN</td>\n",
              "      <td>No</td>\n",
              "      <td>NaN</td>\n",
              "    </tr>\n",
              "    <tr>\n",
              "      <th>4</th>\n",
              "      <td>19</td>\n",
              "      <td>Mobily</td>\n",
              "      <td>KHAMIS MUSHAYT</td>\n",
              "      <td>South</td>\n",
              "      <td>Sudani</td>\n",
              "      <td>Expat Arabs</td>\n",
              "      <td>Male</td>\n",
              "      <td>16.0</td>\n",
              "      <td>Mobily</td>\n",
              "      <td>Prepaid</td>\n",
              "      <td>HV</td>\n",
              "      <td>5.0</td>\n",
              "      <td>5.0</td>\n",
              "      <td>150</td>\n",
              "      <td>10.0</td>\n",
              "      <td>10.0</td>\n",
              "      <td>10.0</td>\n",
              "      <td>10.0</td>\n",
              "      <td>10.0</td>\n",
              "      <td>NaN</td>\n",
              "      <td>10.0</td>\n",
              "      <td>10.0</td>\n",
              "      <td>10.0</td>\n",
              "      <td>10.0</td>\n",
              "      <td>NaN</td>\n",
              "      <td>NaN</td>\n",
              "      <td>10.0</td>\n",
              "      <td>NaN</td>\n",
              "      <td>NaN</td>\n",
              "      <td>NaN</td>\n",
              "      <td>NaN</td>\n",
              "      <td>10.0</td>\n",
              "      <td>NaN</td>\n",
              "      <td>10.0</td>\n",
              "      <td>10.0</td>\n",
              "      <td>10.0</td>\n",
              "      <td>No</td>\n",
              "      <td>NaN</td>\n",
              "      <td>NaN</td>\n",
              "      <td>NaN</td>\n",
              "      <td>NaN</td>\n",
              "      <td>NaN</td>\n",
              "      <td>10</td>\n",
              "      <td>Jan'20</td>\n",
              "      <td>NaN</td>\n",
              "      <td>NaN</td>\n",
              "      <td>No</td>\n",
              "      <td>No</td>\n",
              "      <td>No</td>\n",
              "      <td>No</td>\n",
              "      <td>NaN</td>\n",
              "      <td>NaN</td>\n",
              "      <td>No</td>\n",
              "      <td>NaN</td>\n",
              "      <td>NaN</td>\n",
              "      <td>NaN</td>\n",
              "      <td>NaN</td>\n",
              "      <td>No</td>\n",
              "      <td>NaN</td>\n",
              "    </tr>\n",
              "  </tbody>\n",
              "</table>\n",
              "</div>"
            ],
            "text/plain": [
              "   S_no  ... Resolving Queries Problem Resolution Performance of social networking page\n",
              "0     7  ...                                                NaN                        \n",
              "1   871  ...                                                NaN                        \n",
              "2   871  ...                                                NaN                        \n",
              "3  2037  ...                                                NaN                        \n",
              "4    19  ...                                                NaN                        \n",
              "\n",
              "[5 rows x 59 columns]"
            ]
          },
          "metadata": {
            "tags": []
          },
          "execution_count": 2
        }
      ]
    },
    {
      "cell_type": "code",
      "metadata": {
        "id": "uDWVC2LCf43H",
        "outputId": "169a6e90-ca5c-4c64-9e1b-b3b237a172dc",
        "colab": {
          "base_uri": "https://localhost:8080/",
          "height": 314
        }
      },
      "source": [
        "df.describe()"
      ],
      "execution_count": 3,
      "outputs": [
        {
          "output_type": "execute_result",
          "data": {
            "text/html": [
              "<div>\n",
              "<style scoped>\n",
              "    .dataframe tbody tr th:only-of-type {\n",
              "        vertical-align: middle;\n",
              "    }\n",
              "\n",
              "    .dataframe tbody tr th {\n",
              "        vertical-align: top;\n",
              "    }\n",
              "\n",
              "    .dataframe thead th {\n",
              "        text-align: right;\n",
              "    }\n",
              "</style>\n",
              "<table border=\"1\" class=\"dataframe\">\n",
              "  <thead>\n",
              "    <tr style=\"text-align: right;\">\n",
              "      <th></th>\n",
              "      <th>S_no</th>\n",
              "      <th>Exact_Age</th>\n",
              "      <th>Performance</th>\n",
              "      <th>Preference</th>\n",
              "      <th>TRIM_Index</th>\n",
              "      <th>Communication</th>\n",
              "      <th>Easy_to_understand_information</th>\n",
              "      <th>Brand_Trust</th>\n",
              "      <th>Proposition</th>\n",
              "      <th>VFM</th>\n",
              "      <th>Sales_Experience</th>\n",
              "      <th>Opt_inout</th>\n",
              "      <th>Activation_of_addon_packages</th>\n",
              "      <th>deactivation_and_renewal_of_addon_packages</th>\n",
              "      <th>Network_Satisfaction</th>\n",
              "      <th>Quality_ofdata_network_coverage_reliability</th>\n",
              "      <th>Data_network_speed</th>\n",
              "      <th>Quality_of_voice_network</th>\n",
              "      <th>Customer_Support</th>\n",
              "      <th>Experience_getting_support_through_contact_center_IVR</th>\n",
              "      <th>Support_through_Mobily_Stores</th>\n",
              "      <th>Support_through_digital_channels</th>\n",
              "      <th>Billing_Payment</th>\n",
              "      <th>Bill_accuracy_clarity</th>\n",
              "      <th>Prepaid_topup</th>\n",
              "      <th>Payment_process</th>\n",
              "      <th>Ability_to_monitor_usage_balance</th>\n",
              "      <th>CES</th>\n",
              "      <th>OSAT</th>\n",
              "    </tr>\n",
              "  </thead>\n",
              "  <tbody>\n",
              "    <tr>\n",
              "      <th>count</th>\n",
              "      <td>23407.000000</td>\n",
              "      <td>23352.000000</td>\n",
              "      <td>23322.000000</td>\n",
              "      <td>22924.000000</td>\n",
              "      <td>23407.000000</td>\n",
              "      <td>22366.000000</td>\n",
              "      <td>22182.000000</td>\n",
              "      <td>22862.000000</td>\n",
              "      <td>22866.000000</td>\n",
              "      <td>22882.000000</td>\n",
              "      <td>750.000000</td>\n",
              "      <td>22588.000000</td>\n",
              "      <td>22170.000000</td>\n",
              "      <td>21709.000000</td>\n",
              "      <td>23309.000000</td>\n",
              "      <td>9440.000000</td>\n",
              "      <td>9433.000000</td>\n",
              "      <td>23345.000000</td>\n",
              "      <td>7550.000000</td>\n",
              "      <td>3909.000000</td>\n",
              "      <td>1779.000000</td>\n",
              "      <td>4054.000000</td>\n",
              "      <td>22766.000000</td>\n",
              "      <td>8587.000000</td>\n",
              "      <td>15118.000000</td>\n",
              "      <td>22077.000000</td>\n",
              "      <td>22594.000000</td>\n",
              "      <td>7660.000000</td>\n",
              "      <td>23407.000000</td>\n",
              "    </tr>\n",
              "    <tr>\n",
              "      <th>mean</th>\n",
              "      <td>1429.785192</td>\n",
              "      <td>33.716470</td>\n",
              "      <td>3.876940</td>\n",
              "      <td>3.714448</td>\n",
              "      <td>88.729867</td>\n",
              "      <td>7.754270</td>\n",
              "      <td>8.125237</td>\n",
              "      <td>8.258551</td>\n",
              "      <td>7.880040</td>\n",
              "      <td>7.633904</td>\n",
              "      <td>8.385333</td>\n",
              "      <td>8.170444</td>\n",
              "      <td>8.249977</td>\n",
              "      <td>8.217882</td>\n",
              "      <td>7.904071</td>\n",
              "      <td>7.224576</td>\n",
              "      <td>7.319199</td>\n",
              "      <td>8.445192</td>\n",
              "      <td>8.559735</td>\n",
              "      <td>7.437452</td>\n",
              "      <td>8.179314</td>\n",
              "      <td>8.138382</td>\n",
              "      <td>7.973557</td>\n",
              "      <td>7.805171</td>\n",
              "      <td>9.071835</td>\n",
              "      <td>8.830231</td>\n",
              "      <td>8.355404</td>\n",
              "      <td>8.024543</td>\n",
              "      <td>8.002264</td>\n",
              "    </tr>\n",
              "    <tr>\n",
              "      <th>std</th>\n",
              "      <td>2024.877059</td>\n",
              "      <td>10.386101</td>\n",
              "      <td>1.127687</td>\n",
              "      <td>1.215669</td>\n",
              "      <td>52.437566</td>\n",
              "      <td>2.768152</td>\n",
              "      <td>2.474523</td>\n",
              "      <td>2.435383</td>\n",
              "      <td>2.670538</td>\n",
              "      <td>2.875171</td>\n",
              "      <td>2.460269</td>\n",
              "      <td>2.503283</td>\n",
              "      <td>2.415691</td>\n",
              "      <td>2.575052</td>\n",
              "      <td>2.655330</td>\n",
              "      <td>2.930597</td>\n",
              "      <td>2.917946</td>\n",
              "      <td>2.308369</td>\n",
              "      <td>2.406183</td>\n",
              "      <td>3.204876</td>\n",
              "      <td>2.677637</td>\n",
              "      <td>2.515158</td>\n",
              "      <td>2.694049</td>\n",
              "      <td>2.884593</td>\n",
              "      <td>1.846099</td>\n",
              "      <td>2.005154</td>\n",
              "      <td>2.359176</td>\n",
              "      <td>2.882370</td>\n",
              "      <td>2.506549</td>\n",
              "    </tr>\n",
              "    <tr>\n",
              "      <th>min</th>\n",
              "      <td>6.000000</td>\n",
              "      <td>15.000000</td>\n",
              "      <td>1.000000</td>\n",
              "      <td>1.000000</td>\n",
              "      <td>-50.000000</td>\n",
              "      <td>0.000000</td>\n",
              "      <td>0.000000</td>\n",
              "      <td>0.000000</td>\n",
              "      <td>0.000000</td>\n",
              "      <td>0.000000</td>\n",
              "      <td>0.000000</td>\n",
              "      <td>0.000000</td>\n",
              "      <td>0.000000</td>\n",
              "      <td>0.000000</td>\n",
              "      <td>0.000000</td>\n",
              "      <td>0.000000</td>\n",
              "      <td>0.000000</td>\n",
              "      <td>0.000000</td>\n",
              "      <td>0.000000</td>\n",
              "      <td>0.000000</td>\n",
              "      <td>0.000000</td>\n",
              "      <td>0.000000</td>\n",
              "      <td>0.000000</td>\n",
              "      <td>0.000000</td>\n",
              "      <td>0.000000</td>\n",
              "      <td>0.000000</td>\n",
              "      <td>0.000000</td>\n",
              "      <td>0.000000</td>\n",
              "      <td>0.000000</td>\n",
              "    </tr>\n",
              "    <tr>\n",
              "      <th>25%</th>\n",
              "      <td>27.000000</td>\n",
              "      <td>26.000000</td>\n",
              "      <td>3.000000</td>\n",
              "      <td>3.000000</td>\n",
              "      <td>50.000000</td>\n",
              "      <td>6.000000</td>\n",
              "      <td>7.000000</td>\n",
              "      <td>7.000000</td>\n",
              "      <td>7.000000</td>\n",
              "      <td>6.000000</td>\n",
              "      <td>8.000000</td>\n",
              "      <td>7.000000</td>\n",
              "      <td>7.000000</td>\n",
              "      <td>7.000000</td>\n",
              "      <td>7.000000</td>\n",
              "      <td>5.000000</td>\n",
              "      <td>5.000000</td>\n",
              "      <td>8.000000</td>\n",
              "      <td>8.000000</td>\n",
              "      <td>6.000000</td>\n",
              "      <td>7.000000</td>\n",
              "      <td>7.000000</td>\n",
              "      <td>7.000000</td>\n",
              "      <td>7.000000</td>\n",
              "      <td>9.000000</td>\n",
              "      <td>8.000000</td>\n",
              "      <td>8.000000</td>\n",
              "      <td>7.000000</td>\n",
              "      <td>7.000000</td>\n",
              "    </tr>\n",
              "    <tr>\n",
              "      <th>50%</th>\n",
              "      <td>135.000000</td>\n",
              "      <td>32.000000</td>\n",
              "      <td>4.000000</td>\n",
              "      <td>4.000000</td>\n",
              "      <td>100.000000</td>\n",
              "      <td>9.000000</td>\n",
              "      <td>9.000000</td>\n",
              "      <td>9.000000</td>\n",
              "      <td>9.000000</td>\n",
              "      <td>9.000000</td>\n",
              "      <td>10.000000</td>\n",
              "      <td>9.000000</td>\n",
              "      <td>9.000000</td>\n",
              "      <td>9.000000</td>\n",
              "      <td>9.000000</td>\n",
              "      <td>8.000000</td>\n",
              "      <td>8.000000</td>\n",
              "      <td>10.000000</td>\n",
              "      <td>10.000000</td>\n",
              "      <td>9.000000</td>\n",
              "      <td>10.000000</td>\n",
              "      <td>9.000000</td>\n",
              "      <td>9.000000</td>\n",
              "      <td>9.000000</td>\n",
              "      <td>10.000000</td>\n",
              "      <td>10.000000</td>\n",
              "      <td>9.000000</td>\n",
              "      <td>10.000000</td>\n",
              "      <td>9.000000</td>\n",
              "    </tr>\n",
              "    <tr>\n",
              "      <th>75%</th>\n",
              "      <td>2037.000000</td>\n",
              "      <td>40.000000</td>\n",
              "      <td>5.000000</td>\n",
              "      <td>5.000000</td>\n",
              "      <td>125.000000</td>\n",
              "      <td>10.000000</td>\n",
              "      <td>10.000000</td>\n",
              "      <td>10.000000</td>\n",
              "      <td>10.000000</td>\n",
              "      <td>10.000000</td>\n",
              "      <td>10.000000</td>\n",
              "      <td>10.000000</td>\n",
              "      <td>10.000000</td>\n",
              "      <td>10.000000</td>\n",
              "      <td>10.000000</td>\n",
              "      <td>10.000000</td>\n",
              "      <td>10.000000</td>\n",
              "      <td>10.000000</td>\n",
              "      <td>10.000000</td>\n",
              "      <td>10.000000</td>\n",
              "      <td>10.000000</td>\n",
              "      <td>10.000000</td>\n",
              "      <td>10.000000</td>\n",
              "      <td>10.000000</td>\n",
              "      <td>10.000000</td>\n",
              "      <td>10.000000</td>\n",
              "      <td>10.000000</td>\n",
              "      <td>10.000000</td>\n",
              "      <td>10.000000</td>\n",
              "    </tr>\n",
              "    <tr>\n",
              "      <th>max</th>\n",
              "      <td>9025.000000</td>\n",
              "      <td>99.000000</td>\n",
              "      <td>5.000000</td>\n",
              "      <td>5.000000</td>\n",
              "      <td>150.000000</td>\n",
              "      <td>10.000000</td>\n",
              "      <td>10.000000</td>\n",
              "      <td>10.000000</td>\n",
              "      <td>10.000000</td>\n",
              "      <td>10.000000</td>\n",
              "      <td>10.000000</td>\n",
              "      <td>10.000000</td>\n",
              "      <td>10.000000</td>\n",
              "      <td>10.000000</td>\n",
              "      <td>10.000000</td>\n",
              "      <td>10.000000</td>\n",
              "      <td>10.000000</td>\n",
              "      <td>10.000000</td>\n",
              "      <td>10.000000</td>\n",
              "      <td>10.000000</td>\n",
              "      <td>10.000000</td>\n",
              "      <td>10.000000</td>\n",
              "      <td>10.000000</td>\n",
              "      <td>10.000000</td>\n",
              "      <td>10.000000</td>\n",
              "      <td>10.000000</td>\n",
              "      <td>10.000000</td>\n",
              "      <td>10.000000</td>\n",
              "      <td>10.000000</td>\n",
              "    </tr>\n",
              "  </tbody>\n",
              "</table>\n",
              "</div>"
            ],
            "text/plain": [
              "               S_no     Exact_Age  ...          CES          OSAT\n",
              "count  23407.000000  23352.000000  ...  7660.000000  23407.000000\n",
              "mean    1429.785192     33.716470  ...     8.024543      8.002264\n",
              "std     2024.877059     10.386101  ...     2.882370      2.506549\n",
              "min        6.000000     15.000000  ...     0.000000      0.000000\n",
              "25%       27.000000     26.000000  ...     7.000000      7.000000\n",
              "50%      135.000000     32.000000  ...    10.000000      9.000000\n",
              "75%     2037.000000     40.000000  ...    10.000000     10.000000\n",
              "max     9025.000000     99.000000  ...    10.000000     10.000000\n",
              "\n",
              "[8 rows x 29 columns]"
            ]
          },
          "metadata": {
            "tags": []
          },
          "execution_count": 3
        }
      ]
    },
    {
      "cell_type": "code",
      "metadata": {
        "id": "kpwCAe9emJXp",
        "outputId": "66d92cd0-821a-4527-f5f8-38cbd9c23309",
        "colab": {
          "base_uri": "https://localhost:8080/",
          "height": 35
        }
      },
      "source": [
        "df.shape"
      ],
      "execution_count": 4,
      "outputs": [
        {
          "output_type": "execute_result",
          "data": {
            "text/plain": [
              "(23407, 59)"
            ]
          },
          "metadata": {
            "tags": []
          },
          "execution_count": 4
        }
      ]
    },
    {
      "cell_type": "code",
      "metadata": {
        "id": "Q3fIyv8tmfy5",
        "outputId": "6041c2db-9197-4d25-8156-c00ce9ad1d02",
        "colab": {
          "base_uri": "https://localhost:8080/",
          "height": 485
        }
      },
      "source": [
        "df.columns"
      ],
      "execution_count": 5,
      "outputs": [
        {
          "output_type": "execute_result",
          "data": {
            "text/plain": [
              "Index(['S_no', 'Current_connection', 'City', 'Region', 'Detailed_Nationality',\n",
              "       'Nationality', 'Gender', 'Exact_Age', 'Provider', 'Connection',\n",
              "       'Segment', 'Performance', 'Preference', 'TRIM_Index', 'Communication',\n",
              "       'Easy_to_understand_information', 'Brand_Trust', 'Proposition', 'VFM',\n",
              "       'Sales_Experience', 'Opt_inout', 'Activation_of_addon_packages',\n",
              "       'deactivation_and_renewal_of_addon_packages', 'Network_Satisfaction',\n",
              "       'Quality_ofdata_network_coverage_reliability', 'Data_network_speed',\n",
              "       'Quality_of_voice_network', 'Customer_Support',\n",
              "       'Experience_getting_support_through_contact_center_IVR',\n",
              "       'Support_through_Mobily_Stores', 'Support_through_digital_channels',\n",
              "       'Billing_Payment', 'Bill_accuracy_clarity', 'Prepaid_topup',\n",
              "       'Payment_process', 'Ability_to_monitor_usage_balance',\n",
              "       'Unfair_Balance_Deduction', 'Overcharging_of_bill',\n",
              "       'Website_performance', 'Mobileapp_satisfaction',\n",
              "       'Performance_SNS_Promotions', 'CES', 'OSAT', 'Wave',\n",
              "       'Balance deduction experience in which service',\n",
              "       'Over-charging experience in which service',\n",
              "       'Awareness of mobile app by Mobily', 'Awareness of mobile app by STC',\n",
              "       'Awareness of mobile app by Zain', 'Visit the website',\n",
              "       'Navigation Experience Website',\n",
              "       'Experience Of Finding The Information Website',\n",
              "       'Download the mobile application', 'MobileAPP_Usability',\n",
              "       'Ease Of Problem Resolution Using Mobile App  Mobile Application',\n",
              "       'Frequency to Use Mobile App', 'Activities on Mobile Application',\n",
              "       'Visit any social networking page',\n",
              "       'Resolving Queries Problem Resolution Performance of social networking page'],\n",
              "      dtype='object')"
            ]
          },
          "metadata": {
            "tags": []
          },
          "execution_count": 5
        }
      ]
    },
    {
      "cell_type": "code",
      "metadata": {
        "id": "80tTVqMTmkJd",
        "outputId": "bd6346d0-1723-4260-bac7-102ade2e1cfd",
        "colab": {
          "base_uri": "https://localhost:8080/",
          "height": 1000
        }
      },
      "source": [
        "df.isnull().sum()"
      ],
      "execution_count": 6,
      "outputs": [
        {
          "output_type": "execute_result",
          "data": {
            "text/plain": [
              "S_no                                                                              0\n",
              "Current_connection                                                                0\n",
              "City                                                                              0\n",
              "Region                                                                            0\n",
              "Detailed_Nationality                                                              0\n",
              "Nationality                                                                       0\n",
              "Gender                                                                            0\n",
              "Exact_Age                                                                        55\n",
              "Provider                                                                          0\n",
              "Connection                                                                        0\n",
              "Segment                                                                           0\n",
              "Performance                                                                      85\n",
              "Preference                                                                      483\n",
              "TRIM_Index                                                                        0\n",
              "Communication                                                                  1041\n",
              "Easy_to_understand_information                                                 1225\n",
              "Brand_Trust                                                                     545\n",
              "Proposition                                                                     541\n",
              "VFM                                                                             525\n",
              "Sales_Experience                                                              22657\n",
              "Opt_inout                                                                       819\n",
              "Activation_of_addon_packages                                                   1237\n",
              "deactivation_and_renewal_of_addon_packages                                     1698\n",
              "Network_Satisfaction                                                             98\n",
              "Quality_ofdata_network_coverage_reliability                                   13967\n",
              "Data_network_speed                                                            13974\n",
              "Quality_of_voice_network                                                         62\n",
              "Customer_Support                                                              15857\n",
              "Experience_getting_support_through_contact_center_IVR                         19498\n",
              "Support_through_Mobily_Stores                                                 21628\n",
              "Support_through_digital_channels                                              19353\n",
              "Billing_Payment                                                                 641\n",
              "Bill_accuracy_clarity                                                         14820\n",
              "Prepaid_topup                                                                  8289\n",
              "Payment_process                                                                1330\n",
              "Ability_to_monitor_usage_balance                                                813\n",
              "Unfair_Balance_Deduction                                                       7919\n",
              "Overcharging_of_bill                                                          14619\n",
              "Website_performance                                                           15277\n",
              "Mobileapp_satisfaction                                                        14523\n",
              "Performance_SNS_Promotions                                                    18982\n",
              "CES                                                                           15747\n",
              "OSAT                                                                              0\n",
              "Wave                                                                              0\n",
              "Balance deduction experience in which service                                 21637\n",
              "Over-charging experience in which service                                     21816\n",
              "Awareness of mobile app by Mobily                                                 0\n",
              "Awareness of mobile app by STC                                                    0\n",
              "Awareness of mobile app by Zain                                                   0\n",
              "Visit the website                                                                 0\n",
              "Navigation Experience Website                                                 15277\n",
              "Experience Of Finding The Information Website                                 15277\n",
              "Download the mobile application                                                   0\n",
              "MobileAPP_Usability                                                           14523\n",
              "Ease Of Problem Resolution Using Mobile App  Mobile Application               14523\n",
              "Frequency to Use Mobile App                                                   17950\n",
              "Activities on Mobile Application                                              17950\n",
              "Visit any social networking page                                                  0\n",
              "Resolving Queries Problem Resolution Performance of social networking page    18982\n",
              "dtype: int64"
            ]
          },
          "metadata": {
            "tags": []
          },
          "execution_count": 6
        }
      ]
    },
    {
      "cell_type": "code",
      "metadata": {
        "id": "75w7EPJIA3Lx",
        "outputId": "33c5ec56-ffe1-467c-f0d8-e88817fac68f",
        "colab": {
          "base_uri": "https://localhost:8080/",
          "height": 35
        }
      },
      "source": [
        "df.isnull().sum().sum()"
      ],
      "execution_count": 18,
      "outputs": [
        {
          "output_type": "execute_result",
          "data": {
            "text/plain": [
              "406033"
            ]
          },
          "metadata": {
            "tags": []
          },
          "execution_count": 18
        }
      ]
    },
    {
      "cell_type": "code",
      "metadata": {
        "id": "TjF9D52GAIIJ",
        "outputId": "f3b3e9af-2143-42ec-a51e-e95ec3b93c90",
        "colab": {
          "base_uri": "https://localhost:8080/",
          "height": 1000
        }
      },
      "source": [
        "df.dtypes"
      ],
      "execution_count": 17,
      "outputs": [
        {
          "output_type": "execute_result",
          "data": {
            "text/plain": [
              "S_no                                                                            int64\n",
              "Current_connection                                                             object\n",
              "City                                                                           object\n",
              "Region                                                                         object\n",
              "Detailed_Nationality                                                           object\n",
              "Nationality                                                                    object\n",
              "Gender                                                                         object\n",
              "Exact_Age                                                                     float64\n",
              "Provider                                                                       object\n",
              "Connection                                                                     object\n",
              "Segment                                                                        object\n",
              "Performance                                                                   float64\n",
              "Preference                                                                    float64\n",
              "TRIM_Index                                                                      int64\n",
              "Communication                                                                 float64\n",
              "Easy_to_understand_information                                                float64\n",
              "Brand_Trust                                                                   float64\n",
              "Proposition                                                                   float64\n",
              "VFM                                                                           float64\n",
              "Sales_Experience                                                              float64\n",
              "Opt_inout                                                                     float64\n",
              "Activation_of_addon_packages                                                  float64\n",
              "deactivation_and_renewal_of_addon_packages                                    float64\n",
              "Network_Satisfaction                                                          float64\n",
              "Quality_ofdata_network_coverage_reliability                                   float64\n",
              "Data_network_speed                                                            float64\n",
              "Quality_of_voice_network                                                      float64\n",
              "Customer_Support                                                              float64\n",
              "Experience_getting_support_through_contact_center_IVR                         float64\n",
              "Support_through_Mobily_Stores                                                 float64\n",
              "Support_through_digital_channels                                              float64\n",
              "Billing_Payment                                                               float64\n",
              "Bill_accuracy_clarity                                                         float64\n",
              "Prepaid_topup                                                                 float64\n",
              "Payment_process                                                               float64\n",
              "Ability_to_monitor_usage_balance                                              float64\n",
              "Unfair_Balance_Deduction                                                       object\n",
              "Overcharging_of_bill                                                           object\n",
              "Website_performance                                                            object\n",
              "Mobileapp_satisfaction                                                         object\n",
              "Performance_SNS_Promotions                                                     object\n",
              "CES                                                                           float64\n",
              "OSAT                                                                            int64\n",
              "Wave                                                                           object\n",
              "Balance deduction experience in which service                                  object\n",
              "Over-charging experience in which service                                      object\n",
              "Awareness of mobile app by Mobily                                              object\n",
              "Awareness of mobile app by STC                                                 object\n",
              "Awareness of mobile app by Zain                                                object\n",
              "Visit the website                                                              object\n",
              "Navigation Experience Website                                                  object\n",
              "Experience Of Finding The Information Website                                  object\n",
              "Download the mobile application                                                object\n",
              "MobileAPP_Usability                                                            object\n",
              "Ease Of Problem Resolution Using Mobile App  Mobile Application                object\n",
              "Frequency to Use Mobile App                                                    object\n",
              "Activities on Mobile Application                                               object\n",
              "Visit any social networking page                                               object\n",
              "Resolving Queries Problem Resolution Performance of social networking page     object\n",
              "dtype: object"
            ]
          },
          "metadata": {
            "tags": []
          },
          "execution_count": 17
        }
      ]
    },
    {
      "cell_type": "code",
      "metadata": {
        "id": "cteP8WOcAtrw"
      },
      "source": [
        "\n",
        "df = df.drop('Current_connection', axis = 1)"
      ],
      "execution_count": 30,
      "outputs": []
    },
    {
      "cell_type": "code",
      "metadata": {
        "id": "UD_pxYqDEo_0"
      },
      "source": [
        "df = df.drop('City', axis =1)\n"
      ],
      "execution_count": 32,
      "outputs": []
    },
    {
      "cell_type": "code",
      "metadata": {
        "id": "wHA-m06TE3IQ",
        "outputId": "59c1f7b0-acc6-499e-99a3-163f0951aa8b",
        "colab": {
          "base_uri": "https://localhost:8080/",
          "height": 485
        }
      },
      "source": [
        "df.columns"
      ],
      "execution_count": 39,
      "outputs": [
        {
          "output_type": "execute_result",
          "data": {
            "text/plain": [
              "Index(['Region', 'Nationality', 'Gender', 'Exact_Age', 'Provider',\n",
              "       'Connection', 'Segment', 'Performance', 'Preference', 'TRIM_Index',\n",
              "       'Communication', 'Easy_to_understand_information', 'Brand_Trust',\n",
              "       'Proposition', 'VFM', 'Sales_Experience', 'Opt_inout',\n",
              "       'Activation_of_addon_packages',\n",
              "       'deactivation_and_renewal_of_addon_packages', 'Network_Satisfaction',\n",
              "       'Quality_ofdata_network_coverage_reliability', 'Data_network_speed',\n",
              "       'Quality_of_voice_network', 'Customer_Support',\n",
              "       'Experience_getting_support_through_contact_center_IVR',\n",
              "       'Support_through_Mobily_Stores', 'Support_through_digital_channels',\n",
              "       'Billing_Payment', 'Bill_accuracy_clarity', 'Prepaid_topup',\n",
              "       'Payment_process', 'Ability_to_monitor_usage_balance',\n",
              "       'Unfair_Balance_Deduction', 'Overcharging_of_bill',\n",
              "       'Website_performance', 'Mobileapp_satisfaction',\n",
              "       'Performance_SNS_Promotions', 'CES', 'OSAT',\n",
              "       'Balance deduction experience in which service',\n",
              "       'Over-charging experience in which service',\n",
              "       'Awareness of mobile app by Mobily', 'Awareness of mobile app by STC',\n",
              "       'Awareness of mobile app by Zain', 'Visit the website',\n",
              "       'Navigation Experience Website',\n",
              "       'Experience Of Finding The Information Website',\n",
              "       'Download the mobile application', 'MobileAPP_Usability',\n",
              "       'Ease Of Problem Resolution Using Mobile App  Mobile Application',\n",
              "       'Frequency to Use Mobile App', 'Activities on Mobile Application',\n",
              "       'Visit any social networking page',\n",
              "       'Resolving Queries Problem Resolution Performance of social networking page'],\n",
              "      dtype='object')"
            ]
          },
          "metadata": {
            "tags": []
          },
          "execution_count": 39
        }
      ]
    },
    {
      "cell_type": "code",
      "metadata": {
        "id": "_grZ5_c3E9sY"
      },
      "source": [
        ""
      ],
      "execution_count": null,
      "outputs": []
    },
    {
      "cell_type": "code",
      "metadata": {
        "id": "aRVKHQUmCU2C",
        "outputId": "dd45ae4a-501f-4d55-a004-f1822d65a40c",
        "colab": {
          "base_uri": "https://localhost:8080/",
          "height": 69
        }
      },
      "source": [
        "from sklearn.preprocessing import LabelEncoder\n",
        "le = LabelEncoder()\n",
        "print('Gender: ', df['Gender'].unique())\n",
        "df['Gender'] = le.fit_transform(df['Gender'])\n",
        "print('Gender: ', df['Gender'].unique())\n",
        "print('')"
      ],
      "execution_count": 27,
      "outputs": [
        {
          "output_type": "stream",
          "text": [
            "Gender:  ['Female' 'Male']\n",
            "Gender:  [0 1]\n",
            "\n"
          ],
          "name": "stdout"
        }
      ]
    },
    {
      "cell_type": "code",
      "metadata": {
        "id": "E3RNUVYbFy7c",
        "outputId": "fb6319cd-8346-4800-87ef-6527de5067f0",
        "colab": {
          "base_uri": "https://localhost:8080/",
          "height": 121
        }
      },
      "source": [
        "print('Region: ', df['Region'].unique())\n",
        "df['Region'] = le.fit_transform(df['Region'])\n",
        "print('Region: ', df['Region'].unique())\n",
        "print('')\n",
        "\n",
        "print('Nationality: ', df['Nationality'].unique())\n",
        "df['Nationality'] = le.fit_transform(df['Nationality'])\n",
        "print('Nationality: ', df['Nationality'].unique())\n",
        "print('')"
      ],
      "execution_count": 40,
      "outputs": [
        {
          "output_type": "stream",
          "text": [
            "Region:  ['Western' 'Central' 'South' 'Others' 'Northern' 'Eastern']\n",
            "Region:  [5 0 4 3 2 1]\n",
            "\n",
            "Nationality:  ['Nationals' 'Expat Asians' 'Expat Arabs']\n",
            "Nationality:  [2 1 0]\n",
            "\n"
          ],
          "name": "stdout"
        }
      ]
    },
    {
      "cell_type": "code",
      "metadata": {
        "id": "7E5yXEE-Ge8L",
        "outputId": "069f9ce7-8c54-4498-a0cf-05a288a2ff00",
        "colab": {
          "base_uri": "https://localhost:8080/",
          "height": 191
        }
      },
      "source": [
        "print('Provider: ', df['Provider'].unique())\n",
        "df['Provider'] = le.fit_transform(df['Provider'])\n",
        "print('Provider: ', df['Provider'].unique())\n",
        "print('')\n",
        "\n",
        "print('Connection: ', df['Connection'].unique())\n",
        "df['Connection'] = le.fit_transform(df['Connection'])\n",
        "print('Connection: ', df['Connection'].unique())\n",
        "print('')\n",
        "\n",
        "print('Segment: ', df['Segment'].unique())\n",
        "df['Segment'] = le.fit_transform(df['Segment'])\n",
        "print('Segment: ', df['Segment'].unique())\n",
        "print('')"
      ],
      "execution_count": 41,
      "outputs": [
        {
          "output_type": "stream",
          "text": [
            "Provider:  ['Mobily ' 'Lebara ' 'Friendi ' 'Virgin ' 'Jawwy ' 'STC ' 'Zain '\n",
            " 'Virgin Postpaid']\n",
            "Provider:  [3 2 0 5 1 4 7 6]\n",
            "\n",
            "Connection:  [' Prepaid' ' Postpaid' 'Postpaid']\n",
            "Connection:  [1 0 2]\n",
            "\n",
            "Segment:  ['LV' 'VLV' 'VHV' 'HV' 'MV']\n",
            "Segment:  [1 4 3 0 2]\n",
            "\n"
          ],
          "name": "stdout"
        }
      ]
    },
    {
      "cell_type": "code",
      "metadata": {
        "id": "Ple3UaTSHGTV"
      },
      "source": [
        "df['Gender'] = df['Gender'].astype('int')\n",
        "df['Region'] = df['Region'].astype('int')\n",
        "df['Nationality'] = df['Nationality'].astype('int')\n",
        "df['Provider'] = df['Provider'].astype('int')\n",
        "df['Connection'] = df['Connection'].astype('int')\n",
        "df['Segment'] = df['Segment'].astype('int')"
      ],
      "execution_count": 42,
      "outputs": []
    },
    {
      "cell_type": "code",
      "metadata": {
        "id": "DZGJWGDPHyAb",
        "outputId": "4aa8f8a1-9cc6-4964-fdf8-bd8080a9840e",
        "colab": {
          "base_uri": "https://localhost:8080/",
          "height": 971
        }
      },
      "source": [
        "df.dtypes"
      ],
      "execution_count": 45,
      "outputs": [
        {
          "output_type": "execute_result",
          "data": {
            "text/plain": [
              "Region                                                                          int64\n",
              "Nationality                                                                     int64\n",
              "Gender                                                                          int64\n",
              "Exact_Age                                                                     float64\n",
              "Provider                                                                        int64\n",
              "Connection                                                                      int64\n",
              "Segment                                                                         int64\n",
              "Performance                                                                   float64\n",
              "Preference                                                                    float64\n",
              "TRIM_Index                                                                      int64\n",
              "Communication                                                                 float64\n",
              "Easy_to_understand_information                                                float64\n",
              "Brand_Trust                                                                   float64\n",
              "Proposition                                                                   float64\n",
              "VFM                                                                           float64\n",
              "Sales_Experience                                                              float64\n",
              "Opt_inout                                                                     float64\n",
              "Activation_of_addon_packages                                                  float64\n",
              "deactivation_and_renewal_of_addon_packages                                    float64\n",
              "Network_Satisfaction                                                          float64\n",
              "Quality_ofdata_network_coverage_reliability                                   float64\n",
              "Data_network_speed                                                            float64\n",
              "Quality_of_voice_network                                                      float64\n",
              "Customer_Support                                                              float64\n",
              "Experience_getting_support_through_contact_center_IVR                         float64\n",
              "Support_through_Mobily_Stores                                                 float64\n",
              "Support_through_digital_channels                                              float64\n",
              "Billing_Payment                                                               float64\n",
              "Bill_accuracy_clarity                                                         float64\n",
              "Prepaid_topup                                                                 float64\n",
              "Payment_process                                                               float64\n",
              "Ability_to_monitor_usage_balance                                              float64\n",
              "Unfair_Balance_Deduction                                                       object\n",
              "Overcharging_of_bill                                                           object\n",
              "Website_performance                                                            object\n",
              "Mobileapp_satisfaction                                                         object\n",
              "Performance_SNS_Promotions                                                     object\n",
              "CES                                                                           float64\n",
              "OSAT                                                                            int64\n",
              "Balance deduction experience in which service                                  object\n",
              "Over-charging experience in which service                                      object\n",
              "Awareness of mobile app by Mobily                                              object\n",
              "Awareness of mobile app by STC                                                 object\n",
              "Awareness of mobile app by Zain                                                object\n",
              "Visit the website                                                              object\n",
              "Navigation Experience Website                                                  object\n",
              "Experience Of Finding The Information Website                                  object\n",
              "Download the mobile application                                                object\n",
              "MobileAPP_Usability                                                            object\n",
              "Ease Of Problem Resolution Using Mobile App  Mobile Application                object\n",
              "Frequency to Use Mobile App                                                    object\n",
              "Activities on Mobile Application                                               object\n",
              "Visit any social networking page                                               object\n",
              "Resolving Queries Problem Resolution Performance of social networking page     object\n",
              "dtype: object"
            ]
          },
          "metadata": {
            "tags": []
          },
          "execution_count": 45
        }
      ]
    },
    {
      "cell_type": "code",
      "metadata": {
        "id": "oN6eKglgmxz4",
        "outputId": "25c96aaa-19de-4dc5-bd83-743b08ca7412",
        "colab": {
          "base_uri": "https://localhost:8080/",
          "height": 347
        }
      },
      "source": [
        "df['Provider'].value_counts().plot.bar()"
      ],
      "execution_count": 7,
      "outputs": [
        {
          "output_type": "execute_result",
          "data": {
            "text/plain": [
              "<matplotlib.axes._subplots.AxesSubplot at 0x7efd3226eda0>"
            ]
          },
          "metadata": {
            "tags": []
          },
          "execution_count": 7
        },
        {
          "output_type": "display_data",
          "data": {
            "image/png": "[encoded data removed]",
            "text/plain": [
              "<Figure size 432x288 with 1 Axes>"
            ]
          },
          "metadata": {
            "tags": [],
            "needs_background": "light"
          }
        }
      ]
    },
    {
      "cell_type": "code",
      "metadata": {
        "id": "75cU0YkcAFUI"
      },
      "source": [
        ""
      ],
      "execution_count": null,
      "outputs": []
    },
    {
      "cell_type": "code",
      "metadata": {
        "id": "GCDo7VOBqcdX"
      },
      "source": [
        "corrMatrix = df[['Performance', 'Preference', 'TRIM_Index', 'Communication',\n",
        "        'Brand_Trust', 'Proposition', 'VFM',\n",
        "       'Sales_Experience', 'Opt_inout', 'Network_Satisfaction',\n",
        "       'Customer_Support', 'Billing_Payment', 'Bill_accuracy_clarity', 'Prepaid_topup',\n",
        "       'Website_performance', 'Mobileapp_satisfaction',\n",
        "       'Performance_SNS_Promotions', 'CES', 'OSAT']].corr()\n",
        "      "
      ],
      "execution_count": 8,
      "outputs": []
    },
    {
      "cell_type": "code",
      "metadata": {
        "id": "meU1QLWnADpq"
      },
      "source": [
        ""
      ],
      "execution_count": null,
      "outputs": []
    },
    {
      "cell_type": "code",
      "metadata": {
        "id": "15tNdLOVrBHo",
        "outputId": "4e0c92ab-575b-4835-ec71-62e93642b197",
        "colab": {
          "base_uri": "https://localhost:8080/",
          "height": 365
        }
      },
      "source": [
        "import seaborn as sns\n",
        "sns.heatmap(corrMatrix)\n",
        "plt.show()"
      ],
      "execution_count": 9,
      "outputs": [
        {
          "output_type": "display_data",
          "data": {
            "image/png": "[encoded data removed]",
            "text/plain": [
              "<Figure size 432x288 with 2 Axes>"
            ]
          },
          "metadata": {
            "tags": [],
            "needs_background": "light"
          }
        }
      ]
    },
    {
      "cell_type": "code",
      "metadata": {
        "id": "g69F6tR3sGFI"
      },
      "source": [
        "df = df.drop_duplicates()"
      ],
      "execution_count": 10,
      "outputs": []
    },
    {
      "cell_type": "code",
      "metadata": {
        "id": "W9faSALkuBI0",
        "outputId": "1a182db1-b5ef-4028-e8ef-6ca49313c95f",
        "colab": {
          "base_uri": "https://localhost:8080/",
          "height": 35
        }
      },
      "source": [
        "df.shape"
      ],
      "execution_count": 11,
      "outputs": [
        {
          "output_type": "execute_result",
          "data": {
            "text/plain": [
              "(23397, 59)"
            ]
          },
          "metadata": {
            "tags": []
          },
          "execution_count": 11
        }
      ]
    },
    {
      "cell_type": "code",
      "metadata": {
        "id": "98GnRVxzu1mW"
      },
      "source": [
        "from sklearn.preprocessing import LabelEncoder"
      ],
      "execution_count": 12,
      "outputs": []
    }
  ]
}